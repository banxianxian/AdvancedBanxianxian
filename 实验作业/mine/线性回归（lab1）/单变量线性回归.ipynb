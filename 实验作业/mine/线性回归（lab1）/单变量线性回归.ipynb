{
 "cells": [
  {
   "cell_type": "markdown",
   "id": "500b41ce",
   "metadata": {},
   "source": [
    "# 单变量的线性回归\n"
   ]
  },
  {
   "cell_type": "markdown",
   "id": "a158ad51",
   "metadata": {},
   "source": [
    "**案例**: 假设你是一家公司的ceo，考虑开一家餐厅，根据该城市的人口数据预测利润。"
   ]
  },
  {
   "cell_type": "markdown",
   "id": "f2538007",
   "metadata": {},
   "source": [
    "使用数据集：ex1data1.txt  "
   ]
  },
  {
   "cell_type": "markdown",
   "id": "02123302",
   "metadata": {},
   "source": [
    "### code"
   ]
  },
  {
   "cell_type": "markdown",
   "id": "9a613dda",
   "metadata": {},
   "source": [
    "#### 1. 需要使用的库  "
   ]
  },
  {
   "cell_type": "code",
   "execution_count": 1,
   "id": "067c3083",
   "metadata": {},
   "outputs": [],
   "source": [
    "import numpy as np\n",
    "import pandas as pd\n",
    "import matplotlib.pyplot as plt"
   ]
  },
  {
   "cell_type": "markdown",
   "id": "57178bf9",
   "metadata": {},
   "source": [
    "#### 2. 读入数据"
   ]
  },
  {
   "cell_type": "code",
   "execution_count": 2,
   "id": "8aba2ff9",
   "metadata": {},
   "outputs": [],
   "source": [
    "data = pd.read_csv(\"./ex1data1.txt\", sep=\",\", names=[\"population\", \"profit\"])        # 读入数据"
   ]
  },
  {
   "cell_type": "markdown",
   "id": "1bee504f",
   "metadata": {},
   "source": [
    "read_csv():  \n",
    "filepath_or_buffer: 读入文件的路径  \n",
    "sep:           分割符  \n",
    "names:          列名  "
   ]
  },
  {
   "cell_type": "code",
   "execution_count": 3,
   "id": "f09f4ad3",
   "metadata": {},
   "outputs": [
    {
     "data": {
      "text/html": [
       "<div>\n",
       "<style scoped>\n",
       "    .dataframe tbody tr th:only-of-type {\n",
       "        vertical-align: middle;\n",
       "    }\n",
       "\n",
       "    .dataframe tbody tr th {\n",
       "        vertical-align: top;\n",
       "    }\n",
       "\n",
       "    .dataframe thead th {\n",
       "        text-align: right;\n",
       "    }\n",
       "</style>\n",
       "<table border=\"1\" class=\"dataframe\">\n",
       "  <thead>\n",
       "    <tr style=\"text-align: right;\">\n",
       "      <th></th>\n",
       "      <th>population</th>\n",
       "      <th>profit</th>\n",
       "    </tr>\n",
       "  </thead>\n",
       "  <tbody>\n",
       "    <tr>\n",
       "      <th>0</th>\n",
       "      <td>6.1101</td>\n",
       "      <td>17.5920</td>\n",
       "    </tr>\n",
       "    <tr>\n",
       "      <th>1</th>\n",
       "      <td>5.5277</td>\n",
       "      <td>9.1302</td>\n",
       "    </tr>\n",
       "    <tr>\n",
       "      <th>2</th>\n",
       "      <td>8.5186</td>\n",
       "      <td>13.6620</td>\n",
       "    </tr>\n",
       "    <tr>\n",
       "      <th>3</th>\n",
       "      <td>7.0032</td>\n",
       "      <td>11.8540</td>\n",
       "    </tr>\n",
       "    <tr>\n",
       "      <th>4</th>\n",
       "      <td>5.8598</td>\n",
       "      <td>6.8233</td>\n",
       "    </tr>\n",
       "  </tbody>\n",
       "</table>\n",
       "</div>"
      ],
      "text/plain": [
       "   population   profit\n",
       "0      6.1101  17.5920\n",
       "1      5.5277   9.1302\n",
       "2      8.5186  13.6620\n",
       "3      7.0032  11.8540\n",
       "4      5.8598   6.8233"
      ]
     },
     "execution_count": 3,
     "metadata": {},
     "output_type": "execute_result"
    }
   ],
   "source": [
    "# 查看文件是否正确读入\n",
    "data.head()\n",
    "# data.tail(), 如果同时输出两个会产生覆盖"
   ]
  },
  {
   "cell_type": "markdown",
   "id": "745cb7bf",
   "metadata": {},
   "source": [
    "**注意**： 在Jupyter Notebook中，在同一个代码块中运行多个输出语句时，只会显示最后一个输出结果。"
   ]
  },
  {
   "cell_type": "code",
   "execution_count": 4,
   "id": "47d7e4ec",
   "metadata": {},
   "outputs": [
    {
     "data": {
      "text/html": [
       "<div>\n",
       "<style scoped>\n",
       "    .dataframe tbody tr th:only-of-type {\n",
       "        vertical-align: middle;\n",
       "    }\n",
       "\n",
       "    .dataframe tbody tr th {\n",
       "        vertical-align: top;\n",
       "    }\n",
       "\n",
       "    .dataframe thead th {\n",
       "        text-align: right;\n",
       "    }\n",
       "</style>\n",
       "<table border=\"1\" class=\"dataframe\">\n",
       "  <thead>\n",
       "    <tr style=\"text-align: right;\">\n",
       "      <th></th>\n",
       "      <th>population</th>\n",
       "      <th>profit</th>\n",
       "    </tr>\n",
       "  </thead>\n",
       "  <tbody>\n",
       "    <tr>\n",
       "      <th>92</th>\n",
       "      <td>5.8707</td>\n",
       "      <td>7.20290</td>\n",
       "    </tr>\n",
       "    <tr>\n",
       "      <th>93</th>\n",
       "      <td>5.3054</td>\n",
       "      <td>1.98690</td>\n",
       "    </tr>\n",
       "    <tr>\n",
       "      <th>94</th>\n",
       "      <td>8.2934</td>\n",
       "      <td>0.14454</td>\n",
       "    </tr>\n",
       "    <tr>\n",
       "      <th>95</th>\n",
       "      <td>13.3940</td>\n",
       "      <td>9.05510</td>\n",
       "    </tr>\n",
       "    <tr>\n",
       "      <th>96</th>\n",
       "      <td>5.4369</td>\n",
       "      <td>0.61705</td>\n",
       "    </tr>\n",
       "  </tbody>\n",
       "</table>\n",
       "</div>"
      ],
      "text/plain": [
       "    population   profit\n",
       "92      5.8707  7.20290\n",
       "93      5.3054  1.98690\n",
       "94      8.2934  0.14454\n",
       "95     13.3940  9.05510\n",
       "96      5.4369  0.61705"
      ]
     },
     "execution_count": 4,
     "metadata": {},
     "output_type": "execute_result"
    }
   ],
   "source": [
    "data.tail()"
   ]
  },
  {
   "cell_type": "code",
   "execution_count": 5,
   "id": "5dbcff00",
   "metadata": {},
   "outputs": [
    {
     "data": {
      "text/html": [
       "<div>\n",
       "<style scoped>\n",
       "    .dataframe tbody tr th:only-of-type {\n",
       "        vertical-align: middle;\n",
       "    }\n",
       "\n",
       "    .dataframe tbody tr th {\n",
       "        vertical-align: top;\n",
       "    }\n",
       "\n",
       "    .dataframe thead th {\n",
       "        text-align: right;\n",
       "    }\n",
       "</style>\n",
       "<table border=\"1\" class=\"dataframe\">\n",
       "  <thead>\n",
       "    <tr style=\"text-align: right;\">\n",
       "      <th></th>\n",
       "      <th>population</th>\n",
       "      <th>profit</th>\n",
       "    </tr>\n",
       "  </thead>\n",
       "  <tbody>\n",
       "    <tr>\n",
       "      <th>count</th>\n",
       "      <td>97.000000</td>\n",
       "      <td>97.000000</td>\n",
       "    </tr>\n",
       "    <tr>\n",
       "      <th>mean</th>\n",
       "      <td>8.159800</td>\n",
       "      <td>5.839135</td>\n",
       "    </tr>\n",
       "    <tr>\n",
       "      <th>std</th>\n",
       "      <td>3.869884</td>\n",
       "      <td>5.510262</td>\n",
       "    </tr>\n",
       "    <tr>\n",
       "      <th>min</th>\n",
       "      <td>5.026900</td>\n",
       "      <td>-2.680700</td>\n",
       "    </tr>\n",
       "    <tr>\n",
       "      <th>25%</th>\n",
       "      <td>5.707700</td>\n",
       "      <td>1.986900</td>\n",
       "    </tr>\n",
       "    <tr>\n",
       "      <th>50%</th>\n",
       "      <td>6.589400</td>\n",
       "      <td>4.562300</td>\n",
       "    </tr>\n",
       "    <tr>\n",
       "      <th>75%</th>\n",
       "      <td>8.578100</td>\n",
       "      <td>7.046700</td>\n",
       "    </tr>\n",
       "    <tr>\n",
       "      <th>max</th>\n",
       "      <td>22.203000</td>\n",
       "      <td>24.147000</td>\n",
       "    </tr>\n",
       "  </tbody>\n",
       "</table>\n",
       "</div>"
      ],
      "text/plain": [
       "       population     profit\n",
       "count   97.000000  97.000000\n",
       "mean     8.159800   5.839135\n",
       "std      3.869884   5.510262\n",
       "min      5.026900  -2.680700\n",
       "25%      5.707700   1.986900\n",
       "50%      6.589400   4.562300\n",
       "75%      8.578100   7.046700\n",
       "max     22.203000  24.147000"
      ]
     },
     "execution_count": 5,
     "metadata": {},
     "output_type": "execute_result"
    }
   ],
   "source": [
    "# dataframe的其它一些操作\n",
    "data.values # 读取值（去掉行与列的标签名字）\n",
    "data.describe() # 得到整个表的一些信息"
   ]
  },
  {
   "cell_type": "markdown",
   "id": "85956134",
   "metadata": {},
   "source": [
    "#### 3. 绘制数据集的图像"
   ]
  },
  {
   "cell_type": "code",
   "execution_count": 6,
   "id": "0fc6e395",
   "metadata": {},
   "outputs": [
    {
     "data": {
      "text/plain": [
       "<Axes: xlabel='population', ylabel='profit'>"
      ]
     },
     "execution_count": 6,
     "metadata": {},
     "output_type": "execute_result"
    },
    {
     "data": {
      "image/png": "[encoded data removed]",
      "text/plain": [
       "<Figure size 640x480 with 1 Axes>"
      ]
     },
     "metadata": {},
     "output_type": "display_data"
    }
   ],
   "source": [
    "# dataframe可以直接绘图\n",
    "data.plot.scatter('population', 'profit', label='dot', c='b')"
   ]
  },
  {
   "cell_type": "markdown",
   "id": "db085429",
   "metadata": {},
   "source": [
    "dataframe可以直接绘图  \n",
    "scatter: 散点图  \n",
    "x:     定义横轴标签  \n",
    "y:     定义竖轴标签  \n",
    "label:  指定点的标签是什么  \n",
    "c:    用来指定颜色  "
   ]
  },
  {
   "cell_type": "markdown",
   "id": "d93a7e79",
   "metadata": {},
   "source": [
    "#### 4. 构造数据集"
   ]
  },
  {
   "cell_type": "markdown",
   "id": "702797c2",
   "metadata": {},
   "source": [
    "需要构造的数据矩阵（使用向量化）  \n",
    "$$ X=\\begin{bmatrix}\n",
    "         1&x^{(1)}\\\\\n",
    "         1& x^{(2)}\\\\\n",
    "        \\vdots&\\vdots\\\\\n",
    "         1&x^{(m)}\\\\\n",
    "     \\end{bmatrix}\n",
    "$$  \n",
    "  \n",
    "  \n",
    "$$\n",
    "    \\theta=\\begin{bmatrix}\n",
    "            b & w\n",
    "         \\end{bmatrix}\n",
    "$$\n",
    "  \n",
    "  \n",
    "$$\n",
    "    Y=\\begin{bmatrix}\n",
    "        y^{(1)}\\\\\n",
    "        y^{(2)}\\\\\n",
    "        \\vdots\\\\\n",
    "        y^{(m)}\n",
    "     \\end{bmatrix}\n",
    "$$"
   ]
  },
  {
   "cell_type": "code",
   "execution_count": 7,
   "id": "fbce4bc6",
   "metadata": {},
   "outputs": [
    {
     "data": {
      "text/html": [
       "<div>\n",
       "<style scoped>\n",
       "    .dataframe tbody tr th:only-of-type {\n",
       "        vertical-align: middle;\n",
       "    }\n",
       "\n",
       "    .dataframe tbody tr th {\n",
       "        vertical-align: top;\n",
       "    }\n",
       "\n",
       "    .dataframe thead th {\n",
       "        text-align: right;\n",
       "    }\n",
       "</style>\n",
       "<table border=\"1\" class=\"dataframe\">\n",
       "  <thead>\n",
       "    <tr style=\"text-align: right;\">\n",
       "      <th></th>\n",
       "      <th>addition</th>\n",
       "      <th>population</th>\n",
       "      <th>profit</th>\n",
       "    </tr>\n",
       "  </thead>\n",
       "  <tbody>\n",
       "    <tr>\n",
       "      <th>0</th>\n",
       "      <td>1</td>\n",
       "      <td>6.1101</td>\n",
       "      <td>17.5920</td>\n",
       "    </tr>\n",
       "    <tr>\n",
       "      <th>1</th>\n",
       "      <td>1</td>\n",
       "      <td>5.5277</td>\n",
       "      <td>9.1302</td>\n",
       "    </tr>\n",
       "    <tr>\n",
       "      <th>2</th>\n",
       "      <td>1</td>\n",
       "      <td>8.5186</td>\n",
       "      <td>13.6620</td>\n",
       "    </tr>\n",
       "    <tr>\n",
       "      <th>3</th>\n",
       "      <td>1</td>\n",
       "      <td>7.0032</td>\n",
       "      <td>11.8540</td>\n",
       "    </tr>\n",
       "    <tr>\n",
       "      <th>4</th>\n",
       "      <td>1</td>\n",
       "      <td>5.8598</td>\n",
       "      <td>6.8233</td>\n",
       "    </tr>\n",
       "  </tbody>\n",
       "</table>\n",
       "</div>"
      ],
      "text/plain": [
       "   addition  population   profit\n",
       "0         1      6.1101  17.5920\n",
       "1         1      5.5277   9.1302\n",
       "2         1      8.5186  13.6620\n",
       "3         1      7.0032  11.8540\n",
       "4         1      5.8598   6.8233"
      ]
     },
     "execution_count": 7,
     "metadata": {},
     "output_type": "execute_result"
    }
   ],
   "source": [
    "# 对X 加入数据1列, 首先需要对dataframe进行切片\n",
    "data.insert(loc=0, column='addition', value=1)\n",
    "data.head()"
   ]
  },
  {
   "cell_type": "markdown",
   "id": "9ce94083",
   "metadata": {},
   "source": [
    "**注意:** 在jupyter notebook 中插入运行一次，插入一次，反复运行是由于插入列名字已经存在，因而不能插入导致报错"
   ]
  },
  {
   "cell_type": "code",
   "execution_count": 8,
   "id": "8bc61333",
   "metadata": {},
   "outputs": [
    {
     "data": {
      "text/html": [
       "<div>\n",
       "<style scoped>\n",
       "    .dataframe tbody tr th:only-of-type {\n",
       "        vertical-align: middle;\n",
       "    }\n",
       "\n",
       "    .dataframe tbody tr th {\n",
       "        vertical-align: top;\n",
       "    }\n",
       "\n",
       "    .dataframe thead th {\n",
       "        text-align: right;\n",
       "    }\n",
       "</style>\n",
       "<table border=\"1\" class=\"dataframe\">\n",
       "  <thead>\n",
       "    <tr style=\"text-align: right;\">\n",
       "      <th></th>\n",
       "      <th>addition</th>\n",
       "      <th>population</th>\n",
       "    </tr>\n",
       "  </thead>\n",
       "  <tbody>\n",
       "    <tr>\n",
       "      <th>0</th>\n",
       "      <td>1</td>\n",
       "      <td>6.1101</td>\n",
       "    </tr>\n",
       "    <tr>\n",
       "      <th>1</th>\n",
       "      <td>1</td>\n",
       "      <td>5.5277</td>\n",
       "    </tr>\n",
       "    <tr>\n",
       "      <th>2</th>\n",
       "      <td>1</td>\n",
       "      <td>8.5186</td>\n",
       "    </tr>\n",
       "    <tr>\n",
       "      <th>3</th>\n",
       "      <td>1</td>\n",
       "      <td>7.0032</td>\n",
       "    </tr>\n",
       "    <tr>\n",
       "      <th>4</th>\n",
       "      <td>1</td>\n",
       "      <td>5.8598</td>\n",
       "    </tr>\n",
       "  </tbody>\n",
       "</table>\n",
       "</div>"
      ],
      "text/plain": [
       "   addition  population\n",
       "0         1      6.1101\n",
       "1         1      5.5277\n",
       "2         1      8.5186\n",
       "3         1      7.0032\n",
       "4         1      5.8598"
      ]
     },
     "execution_count": 8,
     "metadata": {},
     "output_type": "execute_result"
    }
   ],
   "source": [
    "# 进行切片\n",
    "X = data.iloc[:, 0:2]\n",
    "Y = data.iloc[:, -1]\n",
    "X.head()\n",
    "# Y.head()"
   ]
  },
  {
   "cell_type": "code",
   "execution_count": 9,
   "id": "16e82c78",
   "metadata": {},
   "outputs": [],
   "source": [
    "X = X.values\n",
    "Y = Y.values"
   ]
  },
  {
   "cell_type": "code",
   "execution_count": 10,
   "id": "563d254d",
   "metadata": {},
   "outputs": [
    {
     "data": {
      "text/plain": [
       "(97, 2)"
      ]
     },
     "execution_count": 10,
     "metadata": {},
     "output_type": "execute_result"
    }
   ],
   "source": [
    "X.shape"
   ]
  },
  {
   "cell_type": "code",
   "execution_count": 11,
   "id": "39ee2888",
   "metadata": {},
   "outputs": [
    {
     "data": {
      "text/plain": [
       "(97,)"
      ]
     },
     "execution_count": 11,
     "metadata": {},
     "output_type": "execute_result"
    }
   ],
   "source": [
    "Y.shape"
   ]
  },
  {
   "cell_type": "markdown",
   "id": "6f03ee16",
   "metadata": {},
   "source": [
    "输出为(97,)代表为一维数组，而(97,1)代表2维数组，代表97行，1列"
   ]
  },
  {
   "cell_type": "code",
   "execution_count": 12,
   "id": "1909c77d",
   "metadata": {},
   "outputs": [
    {
     "data": {
      "text/plain": [
       "(97, 1)"
      ]
     },
     "execution_count": 12,
     "metadata": {},
     "output_type": "execute_result"
    }
   ],
   "source": [
    "Y = Y.reshape(97, 1)\n",
    "Y.shape"
   ]
  },
  {
   "cell_type": "markdown",
   "id": "80511702",
   "metadata": {},
   "source": [
    "#### 4. 函数J的求解"
   ]
  },
  {
   "cell_type": "markdown",
   "id": "531191b8",
   "metadata": {},
   "source": [
    "公式：\n",
    "$$\n",
    "J = \\frac{1}{2m}\\times \\Sigma((X@\\theta-Y)^2)\n",
    "$$  \n",
    "**说明:** 平方是对矩阵每个元素平方，不是矩阵乘以自身，求和是对矩阵每个元素进行求和"
   ]
  },
  {
   "cell_type": "code",
   "execution_count": 13,
   "id": "98884685",
   "metadata": {},
   "outputs": [
    {
     "name": "stdout",
     "output_type": "stream",
     "text": [
      "[[1]\n",
      " [0]\n",
      " [9]]\n",
      "[[ 1]\n",
      " [ 0]\n",
      " [81]]\n"
     ]
    }
   ],
   "source": [
    "# 构造J函数的测试代码\n",
    "matrix1 = np.random.randint(0, 10, size=(3, 1))\n",
    "print(matrix1)\n",
    "matrix1 = np.power(matrix1, 2) # 对矩阵每个元素进行平方\n",
    "print(matrix1)"
   ]
  },
  {
   "cell_type": "code",
   "execution_count": 14,
   "id": "c9847a17",
   "metadata": {},
   "outputs": [],
   "source": [
    "def cost_J_Function(X, Y, theta):\n",
    "    matrix = X @ theta - Y\n",
    "    matrix = np.power(matrix, 2)\n",
    "    return np.sum(matrix) / (2 * len(X))"
   ]
  },
  {
   "cell_type": "code",
   "execution_count": 15,
   "id": "68bcc3dc",
   "metadata": {},
   "outputs": [
    {
     "data": {
      "text/plain": [
       "32.072733877455676"
      ]
     },
     "execution_count": 15,
     "metadata": {},
     "output_type": "execute_result"
    }
   ],
   "source": [
    "# 假定theta(需要确认的参数)\n",
    "theta = np.zeros((2, 1))\n",
    "cost_init = cost_J_Function(X, Y, theta)\n",
    "cost_init"
   ]
  },
  {
   "cell_type": "markdown",
   "id": "b4ce3ca3",
   "metadata": {},
   "source": [
    "$$\n",
    "    \\theta = \\theta - \\frac{\\alpha}{m} \\times X^T@(X@\\theta - Y)\n",
    "$$\n",
    "$\\theta$ 在该题中为   \n",
    "$$\n",
    "\\theta = \\begin{bmatrix}\n",
    "        b\\\\\n",
    "        w\n",
    "       \\end{bmatrix}\n",
    "$$"
   ]
  },
  {
   "cell_type": "code",
   "execution_count": 16,
   "id": "7d8acb79",
   "metadata": {},
   "outputs": [],
   "source": [
    "def gradient_function(X, Y, theta, alpha):\n",
    "    theta = theta - alpha / len(X) * (X.T @ (X @ theta - Y))\n",
    "    return theta    "
   ]
  },
  {
   "cell_type": "code",
   "execution_count": 17,
   "id": "9d9fb68e",
   "metadata": {},
   "outputs": [],
   "source": [
    "# 先更新theta还是先更新J,都是一样的，如果先更新J，theta[0]={[0],[0]}\n",
    "def gradient_descent(X, Y, theta, alpha, iters, cost_J_Function, gradient_function):\n",
    "    history_cost_J = []\n",
    "    history_theta = []\n",
    "    for i in range(iters):\n",
    "        J = cost_J_Function(X, Y, theta)\n",
    "        history_cost_J.append(J)\n",
    "        history_theta.append(theta)\n",
    "        theta = gradient_function(X, Y, theta, alpha)\n",
    "        if i % 100 == 0:\n",
    "            print(J)\n",
    "    return theta, history_cost_J, history_theta"
   ]
  },
  {
   "cell_type": "code",
   "execution_count": 18,
   "id": "2cfcf30b",
   "metadata": {
    "scrolled": true
   },
   "outputs": [
    {
     "name": "stdout",
     "output_type": "stream",
     "text": [
      "32.072733877455676\n",
      "5.175697090896738\n",
      "4.816282367945059\n",
      "4.641745545313584\n",
      "4.556988020067781\n",
      "4.515828578882344\n",
      "4.495840977854773\n",
      "4.486134718893739\n",
      "4.4814212236179065\n",
      "4.479132284305193\n",
      "4.478020743321126\n",
      "4.477480963453484\n",
      "4.4772188387907965\n",
      "4.477091547383859\n",
      "4.477029732894088\n",
      "4.4769997149122185\n",
      "4.476985137759857\n",
      "4.476978058890536\n",
      "4.476974621292461\n",
      "4.476972951946698\n"
     ]
    }
   ],
   "source": [
    "# 对alpha赋值（学习率）\n",
    "alpha = 0.02\n",
    "iters = 2000 # 迭代次数\n",
    "theta, history_cost_J, history_theta = gradient_descent(X, Y, theta, alpha, iters, cost_J_Function, gradient_function)\n",
    "# history_cost_J\n",
    "# history_theta"
   ]
  },
  {
   "cell_type": "code",
   "execution_count": 19,
   "id": "8263a8dc",
   "metadata": {},
   "outputs": [],
   "source": [
    "# 测试np.dot()函数\n",
    "aa = np.array([1, 2, 3])\n",
    "bb = np.array([2, 3, 4])\n",
    "cc = np.dot(aa, bb)\n",
    "cc\n",
    "aaa = np.array([[1], [2], [3]])\n",
    "bbb = np.array([[1, 2, 3]])"
   ]
  },
  {
   "cell_type": "markdown",
   "id": "07dffd97",
   "metadata": {},
   "source": [
    "**注意:** dot()  \n",
    "如果传入的是两个一维数组，那么计算的是点积  \n",
    "如果传入的是二维数组，那么计算的是矩阵乘积  \n"
   ]
  },
  {
   "cell_type": "markdown",
   "id": "75c5aaf4",
   "metadata": {},
   "source": [
    "#### 5. 得到的函数可视化"
   ]
  },
  {
   "cell_type": "code",
   "execution_count": 20,
   "id": "46ea088a",
   "metadata": {},
   "outputs": [
    {
     "data": {
      "image/png": "[encoded data removed]",
      "text/plain": [
       "<Figure size 640x480 with 1 Axes>"
      ]
     },
     "metadata": {},
     "output_type": "display_data"
    }
   ],
   "source": [
    "# 使用matplotlib对得到的结果进行绘图表示\n",
    "fig,ax = plt.subplots()\n",
    "ax.plot(np.arange(0, iters), history_cost_J, color='red')             # 前两个参数为x与y轴，需要保证数据个数相同\n",
    "ax.set(xlabel='iters', ylabel='cost_J', title='iters - cost_J')      # 设置一些参数\n",
    "plt.show()"
   ]
  },
  {
   "cell_type": "code",
   "execution_count": 59,
   "id": "f80a99ca",
   "metadata": {
    "scrolled": false
   },
   "outputs": [
    {
     "data": {
      "image/png": "[encoded data removed]",
      "text/plain": [
       "<Figure size 640x480 with 2 Axes>"
      ]
     },
     "metadata": {},
     "output_type": "display_data"
    }
   ],
   "source": [
    "#arguB = history_theta[:, 0]\n",
    "history_theta = np.array(history_theta)\n",
    "arguB = history_theta[:,0]\n",
    "arguB.reshape(2000)\n",
    "arguW = history_theta[:,-1]\n",
    "arguW.reshape(2000)\n",
    "# 开始绘图\n",
    "fig, ax = plt.subplots(2, 1)\n",
    "fig.subplots_adjust(hspace=1)\n",
    "ax[0].plot(np.arange(0, iters), arguB, color='b')\n",
    "ax[0].set(xlabel='iters', ylabel='b', title='iters - b')\n",
    "ax[1].plot(np.arange(0, iters), arguW, color='r')\n",
    "ax[1].set(xlabel='iters', ylabel='w', title='iters - w')\n",
    "plt.show()"
   ]
  },
  {
   "cell_type": "markdown",
   "id": "f2b8acbf",
   "metadata": {},
   "source": [
    "**注意:** 对python中的list无法使用如同[:,:]的切片操作， 如果需要对其切片，需要转换为ndarray数组"
   ]
  },
  {
   "cell_type": "code",
   "execution_count": 62,
   "id": "7ebee11a",
   "metadata": {},
   "outputs": [
    {
     "data": {
      "image/png": "[encoded data removed]",
      "text/plain": [
       "<Figure size 640x480 with 1 Axes>"
      ]
     },
     "metadata": {},
     "output_type": "display_data"
    }
   ],
   "source": [
    "# 绘制拟合的曲线\n",
    "fig, ax = plt.subplots()\n",
    "ax.scatter(X[:,1], Y, label='training data', c='b')\n",
    "newX = np.linspace(0, 29, 30)\n",
    "newY = theta[0,0] + theta[1,0] * newX\n",
    "ax.plot(newX, newY, color='r', label=\"y = wx + b\")\n",
    "ax.legend()  # 调用后才能生成标签\n",
    "ax.set(xlabel=\"population\", ylabel=\"profit\")\n",
    "plt.show()"
   ]
  }
 ],
 "metadata": {
  "kernelspec": {
   "display_name": "Python 3 (ipykernel)",
   "language": "python",
   "name": "python3"
  },
  "language_info": {
   "codemirror_mode": {
    "name": "ipython",
    "version": 3
   },
   "file_extension": ".py",
   "mimetype": "text/x-python",
   "name": "python",
   "nbconvert_exporter": "python",
   "pygments_lexer": "ipython3",
   "version": "3.11.5"
  }
 },
 "nbformat": 4,
 "nbformat_minor": 5
}
